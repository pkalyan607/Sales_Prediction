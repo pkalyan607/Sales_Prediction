{
 "cells": [
  {
   "cell_type": "code",
   "execution_count": 469,
   "id": "12340ce0",
   "metadata": {},
   "outputs": [],
   "source": [
    "# Sales Prediction for a Retail chain which operates over several shops across a specific country. "
   ]
  },
  {
   "cell_type": "code",
   "execution_count": 470,
   "id": "b44ccae2",
   "metadata": {},
   "outputs": [],
   "source": [
    "import numpy as np\n",
    "import pandas as pd"
   ]
  },
  {
   "cell_type": "code",
   "execution_count": 471,
   "id": "1ac8ff61",
   "metadata": {},
   "outputs": [],
   "source": [
    "store = pd.read_csv(\"store_sales.csv\")\n",
    "temp = pd.read_csv(\"temperature.csv\")\n",
    "macro = pd.read_csv(\"macro_economic.csv\")"
   ]
  },
  {
   "cell_type": "code",
   "execution_count": 472,
   "id": "6e25a1d6",
   "metadata": {},
   "outputs": [
    {
     "data": {
      "text/html": [
       "<div>\n",
       "<style scoped>\n",
       "    .dataframe tbody tr th:only-of-type {\n",
       "        vertical-align: middle;\n",
       "    }\n",
       "\n",
       "    .dataframe tbody tr th {\n",
       "        vertical-align: top;\n",
       "    }\n",
       "\n",
       "    .dataframe thead th {\n",
       "        text-align: right;\n",
       "    }\n",
       "</style>\n",
       "<table border=\"1\" class=\"dataframe\">\n",
       "  <thead>\n",
       "    <tr style=\"text-align: right;\">\n",
       "      <th></th>\n",
       "      <th>date</th>\n",
       "      <th>day</th>\n",
       "      <th>month</th>\n",
       "      <th>year</th>\n",
       "      <th>day_of_week</th>\n",
       "      <th>open</th>\n",
       "      <th>sales</th>\n",
       "      <th>customers</th>\n",
       "      <th>promo</th>\n",
       "      <th>state_holiday</th>\n",
       "      <th>school_holiday</th>\n",
       "    </tr>\n",
       "  </thead>\n",
       "  <tbody>\n",
       "    <tr>\n",
       "      <th>0</th>\n",
       "      <td>01/01/2013</td>\n",
       "      <td>1</td>\n",
       "      <td>1</td>\n",
       "      <td>2013</td>\n",
       "      <td>2</td>\n",
       "      <td>16</td>\n",
       "      <td>94589.0</td>\n",
       "      <td>18866.0</td>\n",
       "      <td>0</td>\n",
       "      <td>1</td>\n",
       "      <td>1</td>\n",
       "    </tr>\n",
       "    <tr>\n",
       "      <th>1</th>\n",
       "      <td>02/01/2013</td>\n",
       "      <td>2</td>\n",
       "      <td>1</td>\n",
       "      <td>2013</td>\n",
       "      <td>3</td>\n",
       "      <td>930</td>\n",
       "      <td>5884914.0</td>\n",
       "      <td>724219.0</td>\n",
       "      <td>0</td>\n",
       "      <td>0</td>\n",
       "      <td>1</td>\n",
       "    </tr>\n",
       "    <tr>\n",
       "      <th>2</th>\n",
       "      <td>03/01/2013</td>\n",
       "      <td>3</td>\n",
       "      <td>1</td>\n",
       "      <td>2013</td>\n",
       "      <td>4</td>\n",
       "      <td>928</td>\n",
       "      <td>5397797.0</td>\n",
       "      <td>663772.0</td>\n",
       "      <td>0</td>\n",
       "      <td>0</td>\n",
       "      <td>1</td>\n",
       "    </tr>\n",
       "    <tr>\n",
       "      <th>3</th>\n",
       "      <td>04/01/2013</td>\n",
       "      <td>4</td>\n",
       "      <td>1</td>\n",
       "      <td>2013</td>\n",
       "      <td>5</td>\n",
       "      <td>928</td>\n",
       "      <td>5625456.0</td>\n",
       "      <td>680237.0</td>\n",
       "      <td>0</td>\n",
       "      <td>0</td>\n",
       "      <td>1</td>\n",
       "    </tr>\n",
       "    <tr>\n",
       "      <th>4</th>\n",
       "      <td>05/01/2013</td>\n",
       "      <td>5</td>\n",
       "      <td>1</td>\n",
       "      <td>2013</td>\n",
       "      <td>6</td>\n",
       "      <td>927</td>\n",
       "      <td>4972166.0</td>\n",
       "      <td>592567.0</td>\n",
       "      <td>0</td>\n",
       "      <td>0</td>\n",
       "      <td>1</td>\n",
       "    </tr>\n",
       "  </tbody>\n",
       "</table>\n",
       "</div>"
      ],
      "text/plain": [
       "         date  day  month  year  day_of_week  open      sales  customers  \\\n",
       "0  01/01/2013    1      1  2013            2    16    94589.0    18866.0   \n",
       "1  02/01/2013    2      1  2013            3   930  5884914.0   724219.0   \n",
       "2  03/01/2013    3      1  2013            4   928  5397797.0   663772.0   \n",
       "3  04/01/2013    4      1  2013            5   928  5625456.0   680237.0   \n",
       "4  05/01/2013    5      1  2013            6   927  4972166.0   592567.0   \n",
       "\n",
       "   promo  state_holiday  school_holiday  \n",
       "0      0              1               1  \n",
       "1      0              0               1  \n",
       "2      0              0               1  \n",
       "3      0              0               1  \n",
       "4      0              0               1  "
      ]
     },
     "execution_count": 472,
     "metadata": {},
     "output_type": "execute_result"
    }
   ],
   "source": [
    "store.head()"
   ]
  },
  {
   "cell_type": "code",
   "execution_count": 473,
   "id": "15b00d59",
   "metadata": {},
   "outputs": [
    {
     "data": {
      "text/html": [
       "<div>\n",
       "<style scoped>\n",
       "    .dataframe tbody tr th:only-of-type {\n",
       "        vertical-align: middle;\n",
       "    }\n",
       "\n",
       "    .dataframe tbody tr th {\n",
       "        vertical-align: top;\n",
       "    }\n",
       "\n",
       "    .dataframe thead th {\n",
       "        text-align: right;\n",
       "    }\n",
       "</style>\n",
       "<table border=\"1\" class=\"dataframe\">\n",
       "  <thead>\n",
       "    <tr style=\"text-align: right;\">\n",
       "      <th></th>\n",
       "      <th>month</th>\n",
       "      <th>Avg_temp</th>\n",
       "    </tr>\n",
       "  </thead>\n",
       "  <tbody>\n",
       "    <tr>\n",
       "      <th>0</th>\n",
       "      <td>1</td>\n",
       "      <td>-2.64</td>\n",
       "    </tr>\n",
       "    <tr>\n",
       "      <th>1</th>\n",
       "      <td>2</td>\n",
       "      <td>-0.71</td>\n",
       "    </tr>\n",
       "    <tr>\n",
       "      <th>2</th>\n",
       "      <td>3</td>\n",
       "      <td>3.29</td>\n",
       "    </tr>\n",
       "    <tr>\n",
       "      <th>3</th>\n",
       "      <td>4</td>\n",
       "      <td>8.62</td>\n",
       "    </tr>\n",
       "    <tr>\n",
       "      <th>4</th>\n",
       "      <td>5</td>\n",
       "      <td>14.34</td>\n",
       "    </tr>\n",
       "  </tbody>\n",
       "</table>\n",
       "</div>"
      ],
      "text/plain": [
       "   month  Avg_temp\n",
       "0      1     -2.64\n",
       "1      2     -0.71\n",
       "2      3      3.29\n",
       "3      4      8.62\n",
       "4      5     14.34"
      ]
     },
     "execution_count": 473,
     "metadata": {},
     "output_type": "execute_result"
    }
   ],
   "source": [
    "temp.head()"
   ]
  },
  {
   "cell_type": "code",
   "execution_count": 474,
   "id": "9ffffafa",
   "metadata": {},
   "outputs": [
    {
     "data": {
      "text/html": [
       "<div>\n",
       "<style scoped>\n",
       "    .dataframe tbody tr th:only-of-type {\n",
       "        vertical-align: middle;\n",
       "    }\n",
       "\n",
       "    .dataframe tbody tr th {\n",
       "        vertical-align: top;\n",
       "    }\n",
       "\n",
       "    .dataframe thead th {\n",
       "        text-align: right;\n",
       "    }\n",
       "</style>\n",
       "<table border=\"1\" class=\"dataframe\">\n",
       "  <thead>\n",
       "    <tr style=\"text-align: right;\">\n",
       "      <th></th>\n",
       "      <th>Year</th>\n",
       "      <th>GDP(Trillions)</th>\n",
       "      <th>Income_per_Capita(Dollars)</th>\n",
       "      <th>population(millions)</th>\n",
       "      <th>Inflation_rate(percentage)</th>\n",
       "      <th>Inflation_change(percentage)</th>\n",
       "    </tr>\n",
       "  </thead>\n",
       "  <tbody>\n",
       "    <tr>\n",
       "      <th>0</th>\n",
       "      <td>2013</td>\n",
       "      <td>16.5</td>\n",
       "      <td>44489</td>\n",
       "      <td>316.2</td>\n",
       "      <td>1.46</td>\n",
       "      <td>-0.60</td>\n",
       "    </tr>\n",
       "    <tr>\n",
       "      <th>1</th>\n",
       "      <td>2014</td>\n",
       "      <td>17.2</td>\n",
       "      <td>46486</td>\n",
       "      <td>318.6</td>\n",
       "      <td>1.62</td>\n",
       "      <td>0.16</td>\n",
       "    </tr>\n",
       "    <tr>\n",
       "      <th>2</th>\n",
       "      <td>2015</td>\n",
       "      <td>17.8</td>\n",
       "      <td>48429</td>\n",
       "      <td>321.0</td>\n",
       "      <td>0.12</td>\n",
       "      <td>-1.50</td>\n",
       "    </tr>\n",
       "  </tbody>\n",
       "</table>\n",
       "</div>"
      ],
      "text/plain": [
       "   Year  GDP(Trillions)  Income_per_Capita(Dollars)  population(millions)  \\\n",
       "0  2013            16.5                       44489                 316.2   \n",
       "1  2014            17.2                       46486                 318.6   \n",
       "2  2015            17.8                       48429                 321.0   \n",
       "\n",
       "   Inflation_rate(percentage)  Inflation_change(percentage)  \n",
       "0                        1.46                         -0.60  \n",
       "1                        1.62                          0.16  \n",
       "2                        0.12                         -1.50  "
      ]
     },
     "execution_count": 474,
     "metadata": {},
     "output_type": "execute_result"
    }
   ],
   "source": [
    "macro.head()"
   ]
  },
  {
   "cell_type": "code",
   "execution_count": 475,
   "id": "6bae1884",
   "metadata": {},
   "outputs": [
    {
     "name": "stdout",
     "output_type": "stream",
     "text": [
      "<class 'pandas.core.frame.DataFrame'>\n",
      "RangeIndex: 942 entries, 0 to 941\n",
      "Data columns (total 11 columns):\n",
      " #   Column          Non-Null Count  Dtype  \n",
      "---  ------          --------------  -----  \n",
      " 0   date            942 non-null    object \n",
      " 1   day             942 non-null    int64  \n",
      " 2   month           942 non-null    int64  \n",
      " 3   year            942 non-null    int64  \n",
      " 4   day_of_week     942 non-null    int64  \n",
      " 5   open            942 non-null    int64  \n",
      " 6   sales           912 non-null    float64\n",
      " 7   customers       912 non-null    float64\n",
      " 8   promo           942 non-null    int64  \n",
      " 9   state_holiday   942 non-null    int64  \n",
      " 10  school_holiday  942 non-null    int64  \n",
      "dtypes: float64(2), int64(8), object(1)\n",
      "memory usage: 81.1+ KB\n"
     ]
    }
   ],
   "source": [
    "store.info()"
   ]
  },
  {
   "cell_type": "code",
   "execution_count": 476,
   "id": "2d0e4e1f",
   "metadata": {},
   "outputs": [],
   "source": [
    "# Now we need to merge the datasets based on particular column\n",
    "store = pd.merge(store, temp, on = 'month')\n",
    "macro = macro.rename(columns = {'Year': 'year'})\n",
    "store = pd.merge(store, macro, on = 'year')\n"
   ]
  },
  {
   "cell_type": "code",
   "execution_count": 477,
   "id": "e192f9ac",
   "metadata": {},
   "outputs": [
    {
     "data": {
      "text/plain": [
       "(942, 17)"
      ]
     },
     "execution_count": 477,
     "metadata": {},
     "output_type": "execute_result"
    }
   ],
   "source": [
    "store.shape"
   ]
  },
  {
   "cell_type": "code",
   "execution_count": 478,
   "id": "57306a74",
   "metadata": {},
   "outputs": [
    {
     "data": {
      "text/html": [
       "<div>\n",
       "<style scoped>\n",
       "    .dataframe tbody tr th:only-of-type {\n",
       "        vertical-align: middle;\n",
       "    }\n",
       "\n",
       "    .dataframe tbody tr th {\n",
       "        vertical-align: top;\n",
       "    }\n",
       "\n",
       "    .dataframe thead th {\n",
       "        text-align: right;\n",
       "    }\n",
       "</style>\n",
       "<table border=\"1\" class=\"dataframe\">\n",
       "  <thead>\n",
       "    <tr style=\"text-align: right;\">\n",
       "      <th></th>\n",
       "      <th>date</th>\n",
       "      <th>day</th>\n",
       "      <th>month</th>\n",
       "      <th>year</th>\n",
       "      <th>day_of_week</th>\n",
       "      <th>open</th>\n",
       "      <th>sales</th>\n",
       "      <th>customers</th>\n",
       "      <th>promo</th>\n",
       "      <th>state_holiday</th>\n",
       "      <th>school_holiday</th>\n",
       "      <th>Avg_temp</th>\n",
       "      <th>GDP(Trillions)</th>\n",
       "      <th>Income_per_Capita(Dollars)</th>\n",
       "      <th>population(millions)</th>\n",
       "      <th>Inflation_rate(percentage)</th>\n",
       "      <th>Inflation_change(percentage)</th>\n",
       "    </tr>\n",
       "  </thead>\n",
       "  <tbody>\n",
       "    <tr>\n",
       "      <th>0</th>\n",
       "      <td>01/01/2013</td>\n",
       "      <td>1</td>\n",
       "      <td>1</td>\n",
       "      <td>2013</td>\n",
       "      <td>2</td>\n",
       "      <td>16</td>\n",
       "      <td>94589.0</td>\n",
       "      <td>18866.0</td>\n",
       "      <td>0</td>\n",
       "      <td>1</td>\n",
       "      <td>1</td>\n",
       "      <td>-2.64</td>\n",
       "      <td>16.5</td>\n",
       "      <td>44489</td>\n",
       "      <td>316.2</td>\n",
       "      <td>1.46</td>\n",
       "      <td>-0.6</td>\n",
       "    </tr>\n",
       "    <tr>\n",
       "      <th>1</th>\n",
       "      <td>02/01/2013</td>\n",
       "      <td>2</td>\n",
       "      <td>1</td>\n",
       "      <td>2013</td>\n",
       "      <td>3</td>\n",
       "      <td>930</td>\n",
       "      <td>5884914.0</td>\n",
       "      <td>724219.0</td>\n",
       "      <td>0</td>\n",
       "      <td>0</td>\n",
       "      <td>1</td>\n",
       "      <td>-2.64</td>\n",
       "      <td>16.5</td>\n",
       "      <td>44489</td>\n",
       "      <td>316.2</td>\n",
       "      <td>1.46</td>\n",
       "      <td>-0.6</td>\n",
       "    </tr>\n",
       "    <tr>\n",
       "      <th>2</th>\n",
       "      <td>03/01/2013</td>\n",
       "      <td>3</td>\n",
       "      <td>1</td>\n",
       "      <td>2013</td>\n",
       "      <td>4</td>\n",
       "      <td>928</td>\n",
       "      <td>5397797.0</td>\n",
       "      <td>663772.0</td>\n",
       "      <td>0</td>\n",
       "      <td>0</td>\n",
       "      <td>1</td>\n",
       "      <td>-2.64</td>\n",
       "      <td>16.5</td>\n",
       "      <td>44489</td>\n",
       "      <td>316.2</td>\n",
       "      <td>1.46</td>\n",
       "      <td>-0.6</td>\n",
       "    </tr>\n",
       "    <tr>\n",
       "      <th>3</th>\n",
       "      <td>04/01/2013</td>\n",
       "      <td>4</td>\n",
       "      <td>1</td>\n",
       "      <td>2013</td>\n",
       "      <td>5</td>\n",
       "      <td>928</td>\n",
       "      <td>5625456.0</td>\n",
       "      <td>680237.0</td>\n",
       "      <td>0</td>\n",
       "      <td>0</td>\n",
       "      <td>1</td>\n",
       "      <td>-2.64</td>\n",
       "      <td>16.5</td>\n",
       "      <td>44489</td>\n",
       "      <td>316.2</td>\n",
       "      <td>1.46</td>\n",
       "      <td>-0.6</td>\n",
       "    </tr>\n",
       "    <tr>\n",
       "      <th>4</th>\n",
       "      <td>05/01/2013</td>\n",
       "      <td>5</td>\n",
       "      <td>1</td>\n",
       "      <td>2013</td>\n",
       "      <td>6</td>\n",
       "      <td>927</td>\n",
       "      <td>4972166.0</td>\n",
       "      <td>592567.0</td>\n",
       "      <td>0</td>\n",
       "      <td>0</td>\n",
       "      <td>1</td>\n",
       "      <td>-2.64</td>\n",
       "      <td>16.5</td>\n",
       "      <td>44489</td>\n",
       "      <td>316.2</td>\n",
       "      <td>1.46</td>\n",
       "      <td>-0.6</td>\n",
       "    </tr>\n",
       "    <tr>\n",
       "      <th>...</th>\n",
       "      <td>...</td>\n",
       "      <td>...</td>\n",
       "      <td>...</td>\n",
       "      <td>...</td>\n",
       "      <td>...</td>\n",
       "      <td>...</td>\n",
       "      <td>...</td>\n",
       "      <td>...</td>\n",
       "      <td>...</td>\n",
       "      <td>...</td>\n",
       "      <td>...</td>\n",
       "      <td>...</td>\n",
       "      <td>...</td>\n",
       "      <td>...</td>\n",
       "      <td>...</td>\n",
       "      <td>...</td>\n",
       "      <td>...</td>\n",
       "    </tr>\n",
       "    <tr>\n",
       "      <th>937</th>\n",
       "      <td>27/07/2015</td>\n",
       "      <td>27</td>\n",
       "      <td>7</td>\n",
       "      <td>2015</td>\n",
       "      <td>1</td>\n",
       "      <td>932</td>\n",
       "      <td>NaN</td>\n",
       "      <td>NaN</td>\n",
       "      <td>1</td>\n",
       "      <td>0</td>\n",
       "      <td>1</td>\n",
       "      <td>21.82</td>\n",
       "      <td>17.8</td>\n",
       "      <td>48429</td>\n",
       "      <td>321.0</td>\n",
       "      <td>0.12</td>\n",
       "      <td>-1.5</td>\n",
       "    </tr>\n",
       "    <tr>\n",
       "      <th>938</th>\n",
       "      <td>28/07/2015</td>\n",
       "      <td>28</td>\n",
       "      <td>7</td>\n",
       "      <td>2015</td>\n",
       "      <td>2</td>\n",
       "      <td>932</td>\n",
       "      <td>NaN</td>\n",
       "      <td>NaN</td>\n",
       "      <td>1</td>\n",
       "      <td>0</td>\n",
       "      <td>1</td>\n",
       "      <td>21.82</td>\n",
       "      <td>17.8</td>\n",
       "      <td>48429</td>\n",
       "      <td>321.0</td>\n",
       "      <td>0.12</td>\n",
       "      <td>-1.5</td>\n",
       "    </tr>\n",
       "    <tr>\n",
       "      <th>939</th>\n",
       "      <td>29/07/2015</td>\n",
       "      <td>29</td>\n",
       "      <td>7</td>\n",
       "      <td>2015</td>\n",
       "      <td>3</td>\n",
       "      <td>932</td>\n",
       "      <td>NaN</td>\n",
       "      <td>NaN</td>\n",
       "      <td>1</td>\n",
       "      <td>0</td>\n",
       "      <td>1</td>\n",
       "      <td>21.82</td>\n",
       "      <td>17.8</td>\n",
       "      <td>48429</td>\n",
       "      <td>321.0</td>\n",
       "      <td>0.12</td>\n",
       "      <td>-1.5</td>\n",
       "    </tr>\n",
       "    <tr>\n",
       "      <th>940</th>\n",
       "      <td>30/07/2015</td>\n",
       "      <td>30</td>\n",
       "      <td>7</td>\n",
       "      <td>2015</td>\n",
       "      <td>4</td>\n",
       "      <td>932</td>\n",
       "      <td>NaN</td>\n",
       "      <td>NaN</td>\n",
       "      <td>1</td>\n",
       "      <td>0</td>\n",
       "      <td>1</td>\n",
       "      <td>21.82</td>\n",
       "      <td>17.8</td>\n",
       "      <td>48429</td>\n",
       "      <td>321.0</td>\n",
       "      <td>0.12</td>\n",
       "      <td>-1.5</td>\n",
       "    </tr>\n",
       "    <tr>\n",
       "      <th>941</th>\n",
       "      <td>31/07/2015</td>\n",
       "      <td>31</td>\n",
       "      <td>7</td>\n",
       "      <td>2015</td>\n",
       "      <td>5</td>\n",
       "      <td>932</td>\n",
       "      <td>NaN</td>\n",
       "      <td>NaN</td>\n",
       "      <td>1</td>\n",
       "      <td>0</td>\n",
       "      <td>1</td>\n",
       "      <td>21.82</td>\n",
       "      <td>17.8</td>\n",
       "      <td>48429</td>\n",
       "      <td>321.0</td>\n",
       "      <td>0.12</td>\n",
       "      <td>-1.5</td>\n",
       "    </tr>\n",
       "  </tbody>\n",
       "</table>\n",
       "<p>942 rows × 17 columns</p>\n",
       "</div>"
      ],
      "text/plain": [
       "           date  day  month  year  day_of_week  open      sales  customers  \\\n",
       "0    01/01/2013    1      1  2013            2    16    94589.0    18866.0   \n",
       "1    02/01/2013    2      1  2013            3   930  5884914.0   724219.0   \n",
       "2    03/01/2013    3      1  2013            4   928  5397797.0   663772.0   \n",
       "3    04/01/2013    4      1  2013            5   928  5625456.0   680237.0   \n",
       "4    05/01/2013    5      1  2013            6   927  4972166.0   592567.0   \n",
       "..          ...  ...    ...   ...          ...   ...        ...        ...   \n",
       "937  27/07/2015   27      7  2015            1   932        NaN        NaN   \n",
       "938  28/07/2015   28      7  2015            2   932        NaN        NaN   \n",
       "939  29/07/2015   29      7  2015            3   932        NaN        NaN   \n",
       "940  30/07/2015   30      7  2015            4   932        NaN        NaN   \n",
       "941  31/07/2015   31      7  2015            5   932        NaN        NaN   \n",
       "\n",
       "     promo  state_holiday  school_holiday  Avg_temp  GDP(Trillions)  \\\n",
       "0        0              1               1     -2.64            16.5   \n",
       "1        0              0               1     -2.64            16.5   \n",
       "2        0              0               1     -2.64            16.5   \n",
       "3        0              0               1     -2.64            16.5   \n",
       "4        0              0               1     -2.64            16.5   \n",
       "..     ...            ...             ...       ...             ...   \n",
       "937      1              0               1     21.82            17.8   \n",
       "938      1              0               1     21.82            17.8   \n",
       "939      1              0               1     21.82            17.8   \n",
       "940      1              0               1     21.82            17.8   \n",
       "941      1              0               1     21.82            17.8   \n",
       "\n",
       "     Income_per_Capita(Dollars)  population(millions)  \\\n",
       "0                         44489                 316.2   \n",
       "1                         44489                 316.2   \n",
       "2                         44489                 316.2   \n",
       "3                         44489                 316.2   \n",
       "4                         44489                 316.2   \n",
       "..                          ...                   ...   \n",
       "937                       48429                 321.0   \n",
       "938                       48429                 321.0   \n",
       "939                       48429                 321.0   \n",
       "940                       48429                 321.0   \n",
       "941                       48429                 321.0   \n",
       "\n",
       "     Inflation_rate(percentage)  Inflation_change(percentage)  \n",
       "0                          1.46                          -0.6  \n",
       "1                          1.46                          -0.6  \n",
       "2                          1.46                          -0.6  \n",
       "3                          1.46                          -0.6  \n",
       "4                          1.46                          -0.6  \n",
       "..                          ...                           ...  \n",
       "937                        0.12                          -1.5  \n",
       "938                        0.12                          -1.5  \n",
       "939                        0.12                          -1.5  \n",
       "940                        0.12                          -1.5  \n",
       "941                        0.12                          -1.5  \n",
       "\n",
       "[942 rows x 17 columns]"
      ]
     },
     "execution_count": 478,
     "metadata": {},
     "output_type": "execute_result"
    }
   ],
   "source": [
    "store"
   ]
  },
  {
   "cell_type": "code",
   "execution_count": 479,
   "id": "da05287b",
   "metadata": {},
   "outputs": [],
   "source": [
    "# Remove the columns which are repetitive and think they do not have much impact on model much\n",
    "# Since we don't have data of customers for the month of July,so we remove customers column\n",
    "store = store.drop(columns = ['date','day','month','year','customers','GDP(Trillions)','population(millions)','Inflation_change(percentage)'])"
   ]
  },
  {
   "cell_type": "code",
   "execution_count": 480,
   "id": "58ec03e6",
   "metadata": {},
   "outputs": [],
   "source": [
    "# we have to predict sales for the month of July (2 nd to 31 st). so take july month details \n",
    "testing = store[store['sales'].isna()]"
   ]
  },
  {
   "cell_type": "code",
   "execution_count": 481,
   "id": "6c93d3eb",
   "metadata": {},
   "outputs": [
    {
     "data": {
      "text/plain": [
       "(30, 9)"
      ]
     },
     "execution_count": 481,
     "metadata": {},
     "output_type": "execute_result"
    }
   ],
   "source": [
    "testing.shape"
   ]
  },
  {
   "cell_type": "code",
   "execution_count": 482,
   "id": "658699d1",
   "metadata": {},
   "outputs": [
    {
     "data": {
      "text/html": [
       "<div>\n",
       "<style scoped>\n",
       "    .dataframe tbody tr th:only-of-type {\n",
       "        vertical-align: middle;\n",
       "    }\n",
       "\n",
       "    .dataframe tbody tr th {\n",
       "        vertical-align: top;\n",
       "    }\n",
       "\n",
       "    .dataframe thead th {\n",
       "        text-align: right;\n",
       "    }\n",
       "</style>\n",
       "<table border=\"1\" class=\"dataframe\">\n",
       "  <thead>\n",
       "    <tr style=\"text-align: right;\">\n",
       "      <th></th>\n",
       "      <th>day_of_week</th>\n",
       "      <th>open</th>\n",
       "      <th>sales</th>\n",
       "      <th>promo</th>\n",
       "      <th>state_holiday</th>\n",
       "      <th>school_holiday</th>\n",
       "      <th>Avg_temp</th>\n",
       "      <th>Income_per_Capita(Dollars)</th>\n",
       "      <th>Inflation_rate(percentage)</th>\n",
       "    </tr>\n",
       "  </thead>\n",
       "  <tbody>\n",
       "    <tr>\n",
       "      <th>912</th>\n",
       "      <td>4</td>\n",
       "      <td>934</td>\n",
       "      <td>NaN</td>\n",
       "      <td>1</td>\n",
       "      <td>0</td>\n",
       "      <td>0</td>\n",
       "      <td>21.82</td>\n",
       "      <td>48429</td>\n",
       "      <td>0.12</td>\n",
       "    </tr>\n",
       "    <tr>\n",
       "      <th>913</th>\n",
       "      <td>5</td>\n",
       "      <td>934</td>\n",
       "      <td>NaN</td>\n",
       "      <td>1</td>\n",
       "      <td>0</td>\n",
       "      <td>0</td>\n",
       "      <td>21.82</td>\n",
       "      <td>48429</td>\n",
       "      <td>0.12</td>\n",
       "    </tr>\n",
       "    <tr>\n",
       "      <th>914</th>\n",
       "      <td>6</td>\n",
       "      <td>934</td>\n",
       "      <td>NaN</td>\n",
       "      <td>0</td>\n",
       "      <td>0</td>\n",
       "      <td>0</td>\n",
       "      <td>21.82</td>\n",
       "      <td>48429</td>\n",
       "      <td>0.12</td>\n",
       "    </tr>\n",
       "    <tr>\n",
       "      <th>915</th>\n",
       "      <td>7</td>\n",
       "      <td>32</td>\n",
       "      <td>NaN</td>\n",
       "      <td>0</td>\n",
       "      <td>0</td>\n",
       "      <td>0</td>\n",
       "      <td>21.82</td>\n",
       "      <td>48429</td>\n",
       "      <td>0.12</td>\n",
       "    </tr>\n",
       "    <tr>\n",
       "      <th>916</th>\n",
       "      <td>1</td>\n",
       "      <td>934</td>\n",
       "      <td>NaN</td>\n",
       "      <td>0</td>\n",
       "      <td>0</td>\n",
       "      <td>0</td>\n",
       "      <td>21.82</td>\n",
       "      <td>48429</td>\n",
       "      <td>0.12</td>\n",
       "    </tr>\n",
       "    <tr>\n",
       "      <th>917</th>\n",
       "      <td>2</td>\n",
       "      <td>934</td>\n",
       "      <td>NaN</td>\n",
       "      <td>0</td>\n",
       "      <td>0</td>\n",
       "      <td>0</td>\n",
       "      <td>21.82</td>\n",
       "      <td>48429</td>\n",
       "      <td>0.12</td>\n",
       "    </tr>\n",
       "    <tr>\n",
       "      <th>918</th>\n",
       "      <td>3</td>\n",
       "      <td>934</td>\n",
       "      <td>NaN</td>\n",
       "      <td>0</td>\n",
       "      <td>0</td>\n",
       "      <td>0</td>\n",
       "      <td>21.82</td>\n",
       "      <td>48429</td>\n",
       "      <td>0.12</td>\n",
       "    </tr>\n",
       "    <tr>\n",
       "      <th>919</th>\n",
       "      <td>4</td>\n",
       "      <td>934</td>\n",
       "      <td>NaN</td>\n",
       "      <td>0</td>\n",
       "      <td>0</td>\n",
       "      <td>0</td>\n",
       "      <td>21.82</td>\n",
       "      <td>48429</td>\n",
       "      <td>0.12</td>\n",
       "    </tr>\n",
       "    <tr>\n",
       "      <th>920</th>\n",
       "      <td>5</td>\n",
       "      <td>934</td>\n",
       "      <td>NaN</td>\n",
       "      <td>0</td>\n",
       "      <td>0</td>\n",
       "      <td>0</td>\n",
       "      <td>21.82</td>\n",
       "      <td>48429</td>\n",
       "      <td>0.12</td>\n",
       "    </tr>\n",
       "    <tr>\n",
       "      <th>921</th>\n",
       "      <td>6</td>\n",
       "      <td>933</td>\n",
       "      <td>NaN</td>\n",
       "      <td>0</td>\n",
       "      <td>0</td>\n",
       "      <td>0</td>\n",
       "      <td>21.82</td>\n",
       "      <td>48429</td>\n",
       "      <td>0.12</td>\n",
       "    </tr>\n",
       "    <tr>\n",
       "      <th>922</th>\n",
       "      <td>7</td>\n",
       "      <td>31</td>\n",
       "      <td>NaN</td>\n",
       "      <td>0</td>\n",
       "      <td>0</td>\n",
       "      <td>0</td>\n",
       "      <td>21.82</td>\n",
       "      <td>48429</td>\n",
       "      <td>0.12</td>\n",
       "    </tr>\n",
       "    <tr>\n",
       "      <th>923</th>\n",
       "      <td>1</td>\n",
       "      <td>933</td>\n",
       "      <td>NaN</td>\n",
       "      <td>1</td>\n",
       "      <td>0</td>\n",
       "      <td>0</td>\n",
       "      <td>21.82</td>\n",
       "      <td>48429</td>\n",
       "      <td>0.12</td>\n",
       "    </tr>\n",
       "    <tr>\n",
       "      <th>924</th>\n",
       "      <td>2</td>\n",
       "      <td>933</td>\n",
       "      <td>NaN</td>\n",
       "      <td>1</td>\n",
       "      <td>0</td>\n",
       "      <td>0</td>\n",
       "      <td>21.82</td>\n",
       "      <td>48429</td>\n",
       "      <td>0.12</td>\n",
       "    </tr>\n",
       "    <tr>\n",
       "      <th>925</th>\n",
       "      <td>3</td>\n",
       "      <td>933</td>\n",
       "      <td>NaN</td>\n",
       "      <td>1</td>\n",
       "      <td>0</td>\n",
       "      <td>0</td>\n",
       "      <td>21.82</td>\n",
       "      <td>48429</td>\n",
       "      <td>0.12</td>\n",
       "    </tr>\n",
       "    <tr>\n",
       "      <th>926</th>\n",
       "      <td>4</td>\n",
       "      <td>932</td>\n",
       "      <td>NaN</td>\n",
       "      <td>1</td>\n",
       "      <td>0</td>\n",
       "      <td>0</td>\n",
       "      <td>21.82</td>\n",
       "      <td>48429</td>\n",
       "      <td>0.12</td>\n",
       "    </tr>\n",
       "    <tr>\n",
       "      <th>927</th>\n",
       "      <td>5</td>\n",
       "      <td>932</td>\n",
       "      <td>NaN</td>\n",
       "      <td>1</td>\n",
       "      <td>0</td>\n",
       "      <td>0</td>\n",
       "      <td>21.82</td>\n",
       "      <td>48429</td>\n",
       "      <td>0.12</td>\n",
       "    </tr>\n",
       "    <tr>\n",
       "      <th>928</th>\n",
       "      <td>6</td>\n",
       "      <td>932</td>\n",
       "      <td>NaN</td>\n",
       "      <td>0</td>\n",
       "      <td>0</td>\n",
       "      <td>0</td>\n",
       "      <td>21.82</td>\n",
       "      <td>48429</td>\n",
       "      <td>0.12</td>\n",
       "    </tr>\n",
       "    <tr>\n",
       "      <th>929</th>\n",
       "      <td>7</td>\n",
       "      <td>31</td>\n",
       "      <td>NaN</td>\n",
       "      <td>0</td>\n",
       "      <td>0</td>\n",
       "      <td>0</td>\n",
       "      <td>21.82</td>\n",
       "      <td>48429</td>\n",
       "      <td>0.12</td>\n",
       "    </tr>\n",
       "    <tr>\n",
       "      <th>930</th>\n",
       "      <td>1</td>\n",
       "      <td>932</td>\n",
       "      <td>NaN</td>\n",
       "      <td>0</td>\n",
       "      <td>0</td>\n",
       "      <td>0</td>\n",
       "      <td>21.82</td>\n",
       "      <td>48429</td>\n",
       "      <td>0.12</td>\n",
       "    </tr>\n",
       "    <tr>\n",
       "      <th>931</th>\n",
       "      <td>2</td>\n",
       "      <td>932</td>\n",
       "      <td>NaN</td>\n",
       "      <td>0</td>\n",
       "      <td>0</td>\n",
       "      <td>0</td>\n",
       "      <td>21.82</td>\n",
       "      <td>48429</td>\n",
       "      <td>0.12</td>\n",
       "    </tr>\n",
       "    <tr>\n",
       "      <th>932</th>\n",
       "      <td>3</td>\n",
       "      <td>932</td>\n",
       "      <td>NaN</td>\n",
       "      <td>0</td>\n",
       "      <td>0</td>\n",
       "      <td>0</td>\n",
       "      <td>21.82</td>\n",
       "      <td>48429</td>\n",
       "      <td>0.12</td>\n",
       "    </tr>\n",
       "    <tr>\n",
       "      <th>933</th>\n",
       "      <td>4</td>\n",
       "      <td>932</td>\n",
       "      <td>NaN</td>\n",
       "      <td>0</td>\n",
       "      <td>0</td>\n",
       "      <td>0</td>\n",
       "      <td>21.82</td>\n",
       "      <td>48429</td>\n",
       "      <td>0.12</td>\n",
       "    </tr>\n",
       "    <tr>\n",
       "      <th>934</th>\n",
       "      <td>5</td>\n",
       "      <td>932</td>\n",
       "      <td>NaN</td>\n",
       "      <td>0</td>\n",
       "      <td>0</td>\n",
       "      <td>0</td>\n",
       "      <td>21.82</td>\n",
       "      <td>48429</td>\n",
       "      <td>0.12</td>\n",
       "    </tr>\n",
       "    <tr>\n",
       "      <th>935</th>\n",
       "      <td>6</td>\n",
       "      <td>932</td>\n",
       "      <td>NaN</td>\n",
       "      <td>0</td>\n",
       "      <td>0</td>\n",
       "      <td>0</td>\n",
       "      <td>21.82</td>\n",
       "      <td>48429</td>\n",
       "      <td>0.12</td>\n",
       "    </tr>\n",
       "    <tr>\n",
       "      <th>936</th>\n",
       "      <td>7</td>\n",
       "      <td>31</td>\n",
       "      <td>NaN</td>\n",
       "      <td>0</td>\n",
       "      <td>0</td>\n",
       "      <td>0</td>\n",
       "      <td>21.82</td>\n",
       "      <td>48429</td>\n",
       "      <td>0.12</td>\n",
       "    </tr>\n",
       "    <tr>\n",
       "      <th>937</th>\n",
       "      <td>1</td>\n",
       "      <td>932</td>\n",
       "      <td>NaN</td>\n",
       "      <td>1</td>\n",
       "      <td>0</td>\n",
       "      <td>1</td>\n",
       "      <td>21.82</td>\n",
       "      <td>48429</td>\n",
       "      <td>0.12</td>\n",
       "    </tr>\n",
       "    <tr>\n",
       "      <th>938</th>\n",
       "      <td>2</td>\n",
       "      <td>932</td>\n",
       "      <td>NaN</td>\n",
       "      <td>1</td>\n",
       "      <td>0</td>\n",
       "      <td>1</td>\n",
       "      <td>21.82</td>\n",
       "      <td>48429</td>\n",
       "      <td>0.12</td>\n",
       "    </tr>\n",
       "    <tr>\n",
       "      <th>939</th>\n",
       "      <td>3</td>\n",
       "      <td>932</td>\n",
       "      <td>NaN</td>\n",
       "      <td>1</td>\n",
       "      <td>0</td>\n",
       "      <td>1</td>\n",
       "      <td>21.82</td>\n",
       "      <td>48429</td>\n",
       "      <td>0.12</td>\n",
       "    </tr>\n",
       "    <tr>\n",
       "      <th>940</th>\n",
       "      <td>4</td>\n",
       "      <td>932</td>\n",
       "      <td>NaN</td>\n",
       "      <td>1</td>\n",
       "      <td>0</td>\n",
       "      <td>1</td>\n",
       "      <td>21.82</td>\n",
       "      <td>48429</td>\n",
       "      <td>0.12</td>\n",
       "    </tr>\n",
       "    <tr>\n",
       "      <th>941</th>\n",
       "      <td>5</td>\n",
       "      <td>932</td>\n",
       "      <td>NaN</td>\n",
       "      <td>1</td>\n",
       "      <td>0</td>\n",
       "      <td>1</td>\n",
       "      <td>21.82</td>\n",
       "      <td>48429</td>\n",
       "      <td>0.12</td>\n",
       "    </tr>\n",
       "  </tbody>\n",
       "</table>\n",
       "</div>"
      ],
      "text/plain": [
       "     day_of_week  open  sales  promo  state_holiday  school_holiday  Avg_temp  \\\n",
       "912            4   934    NaN      1              0               0     21.82   \n",
       "913            5   934    NaN      1              0               0     21.82   \n",
       "914            6   934    NaN      0              0               0     21.82   \n",
       "915            7    32    NaN      0              0               0     21.82   \n",
       "916            1   934    NaN      0              0               0     21.82   \n",
       "917            2   934    NaN      0              0               0     21.82   \n",
       "918            3   934    NaN      0              0               0     21.82   \n",
       "919            4   934    NaN      0              0               0     21.82   \n",
       "920            5   934    NaN      0              0               0     21.82   \n",
       "921            6   933    NaN      0              0               0     21.82   \n",
       "922            7    31    NaN      0              0               0     21.82   \n",
       "923            1   933    NaN      1              0               0     21.82   \n",
       "924            2   933    NaN      1              0               0     21.82   \n",
       "925            3   933    NaN      1              0               0     21.82   \n",
       "926            4   932    NaN      1              0               0     21.82   \n",
       "927            5   932    NaN      1              0               0     21.82   \n",
       "928            6   932    NaN      0              0               0     21.82   \n",
       "929            7    31    NaN      0              0               0     21.82   \n",
       "930            1   932    NaN      0              0               0     21.82   \n",
       "931            2   932    NaN      0              0               0     21.82   \n",
       "932            3   932    NaN      0              0               0     21.82   \n",
       "933            4   932    NaN      0              0               0     21.82   \n",
       "934            5   932    NaN      0              0               0     21.82   \n",
       "935            6   932    NaN      0              0               0     21.82   \n",
       "936            7    31    NaN      0              0               0     21.82   \n",
       "937            1   932    NaN      1              0               1     21.82   \n",
       "938            2   932    NaN      1              0               1     21.82   \n",
       "939            3   932    NaN      1              0               1     21.82   \n",
       "940            4   932    NaN      1              0               1     21.82   \n",
       "941            5   932    NaN      1              0               1     21.82   \n",
       "\n",
       "     Income_per_Capita(Dollars)  Inflation_rate(percentage)  \n",
       "912                       48429                        0.12  \n",
       "913                       48429                        0.12  \n",
       "914                       48429                        0.12  \n",
       "915                       48429                        0.12  \n",
       "916                       48429                        0.12  \n",
       "917                       48429                        0.12  \n",
       "918                       48429                        0.12  \n",
       "919                       48429                        0.12  \n",
       "920                       48429                        0.12  \n",
       "921                       48429                        0.12  \n",
       "922                       48429                        0.12  \n",
       "923                       48429                        0.12  \n",
       "924                       48429                        0.12  \n",
       "925                       48429                        0.12  \n",
       "926                       48429                        0.12  \n",
       "927                       48429                        0.12  \n",
       "928                       48429                        0.12  \n",
       "929                       48429                        0.12  \n",
       "930                       48429                        0.12  \n",
       "931                       48429                        0.12  \n",
       "932                       48429                        0.12  \n",
       "933                       48429                        0.12  \n",
       "934                       48429                        0.12  \n",
       "935                       48429                        0.12  \n",
       "936                       48429                        0.12  \n",
       "937                       48429                        0.12  \n",
       "938                       48429                        0.12  \n",
       "939                       48429                        0.12  \n",
       "940                       48429                        0.12  \n",
       "941                       48429                        0.12  "
      ]
     },
     "execution_count": 482,
     "metadata": {},
     "output_type": "execute_result"
    }
   ],
   "source": [
    "testing"
   ]
  },
  {
   "cell_type": "code",
   "execution_count": 483,
   "id": "23638582",
   "metadata": {},
   "outputs": [],
   "source": [
    "# Now remove this testing data from store dataset for the training purpose\n",
    "store = store[~store['sales'].isna()]"
   ]
  },
  {
   "cell_type": "code",
   "execution_count": 484,
   "id": "5819fe31",
   "metadata": {},
   "outputs": [
    {
     "data": {
      "text/plain": [
       "(912, 9)"
      ]
     },
     "execution_count": 484,
     "metadata": {},
     "output_type": "execute_result"
    }
   ],
   "source": [
    "store.shape"
   ]
  },
  {
   "cell_type": "code",
   "execution_count": 485,
   "id": "66dd5dbf",
   "metadata": {},
   "outputs": [
    {
     "name": "stdout",
     "output_type": "stream",
     "text": [
      "<class 'pandas.core.frame.DataFrame'>\n",
      "Int64Index: 912 entries, 0 to 911\n",
      "Data columns (total 9 columns):\n",
      " #   Column                      Non-Null Count  Dtype  \n",
      "---  ------                      --------------  -----  \n",
      " 0   day_of_week                 912 non-null    int64  \n",
      " 1   open                        912 non-null    int64  \n",
      " 2   sales                       912 non-null    float64\n",
      " 3   promo                       912 non-null    int64  \n",
      " 4   state_holiday               912 non-null    int64  \n",
      " 5   school_holiday              912 non-null    int64  \n",
      " 6   Avg_temp                    912 non-null    float64\n",
      " 7   Income_per_Capita(Dollars)  912 non-null    int64  \n",
      " 8   Inflation_rate(percentage)  912 non-null    float64\n",
      "dtypes: float64(3), int64(6)\n",
      "memory usage: 71.2 KB\n"
     ]
    }
   ],
   "source": [
    "store.info()"
   ]
  },
  {
   "cell_type": "code",
   "execution_count": 486,
   "id": "a5b8bfab",
   "metadata": {},
   "outputs": [],
   "source": [
    "# Now perform Data Cleaning"
   ]
  },
  {
   "cell_type": "code",
   "execution_count": 487,
   "id": "9f93b055",
   "metadata": {},
   "outputs": [
    {
     "data": {
      "text/plain": [
       "day_of_week                   0\n",
       "open                          0\n",
       "sales                         0\n",
       "promo                         0\n",
       "state_holiday                 0\n",
       "school_holiday                0\n",
       "Avg_temp                      0\n",
       "Income_per_Capita(Dollars)    0\n",
       "Inflation_rate(percentage)    0\n",
       "dtype: int64"
      ]
     },
     "execution_count": 487,
     "metadata": {},
     "output_type": "execute_result"
    }
   ],
   "source": [
    "store.isnull().sum()"
   ]
  },
  {
   "cell_type": "code",
   "execution_count": 488,
   "id": "05e38c62",
   "metadata": {},
   "outputs": [
    {
     "data": {
      "text/plain": [
       "0"
      ]
     },
     "execution_count": 488,
     "metadata": {},
     "output_type": "execute_result"
    }
   ],
   "source": [
    "store.duplicated().sum()"
   ]
  },
  {
   "cell_type": "code",
   "execution_count": 489,
   "id": "11b51264",
   "metadata": {},
   "outputs": [
    {
     "data": {
      "text/html": [
       "<div>\n",
       "<style scoped>\n",
       "    .dataframe tbody tr th:only-of-type {\n",
       "        vertical-align: middle;\n",
       "    }\n",
       "\n",
       "    .dataframe tbody tr th {\n",
       "        vertical-align: top;\n",
       "    }\n",
       "\n",
       "    .dataframe thead th {\n",
       "        text-align: right;\n",
       "    }\n",
       "</style>\n",
       "<table border=\"1\" class=\"dataframe\">\n",
       "  <thead>\n",
       "    <tr style=\"text-align: right;\">\n",
       "      <th></th>\n",
       "      <th>day_of_week</th>\n",
       "      <th>open</th>\n",
       "      <th>sales</th>\n",
       "      <th>promo</th>\n",
       "      <th>state_holiday</th>\n",
       "      <th>school_holiday</th>\n",
       "      <th>Avg_temp</th>\n",
       "      <th>Income_per_Capita(Dollars)</th>\n",
       "      <th>Inflation_rate(percentage)</th>\n",
       "    </tr>\n",
       "  </thead>\n",
       "  <tbody>\n",
       "    <tr>\n",
       "      <th>count</th>\n",
       "      <td>912.000000</td>\n",
       "      <td>912.000000</td>\n",
       "      <td>9.120000e+02</td>\n",
       "      <td>912.000000</td>\n",
       "      <td>912.000000</td>\n",
       "      <td>912.000000</td>\n",
       "      <td>912.000000</td>\n",
       "      <td>912.000000</td>\n",
       "      <td>912.000000</td>\n",
       "    </tr>\n",
       "    <tr>\n",
       "      <th>mean</th>\n",
       "      <td>3.996711</td>\n",
       "      <td>775.517544</td>\n",
       "      <td>5.434012e+06</td>\n",
       "      <td>0.381579</td>\n",
       "      <td>0.029605</td>\n",
       "      <td>0.206140</td>\n",
       "      <td>9.047774</td>\n",
       "      <td>46074.509868</td>\n",
       "      <td>1.256623</td>\n",
       "    </tr>\n",
       "    <tr>\n",
       "      <th>std</th>\n",
       "      <td>2.000272</td>\n",
       "      <td>340.109438</td>\n",
       "      <td>2.728459e+06</td>\n",
       "      <td>0.486041</td>\n",
       "      <td>0.169589</td>\n",
       "      <td>0.404754</td>\n",
       "      <td>8.576125</td>\n",
       "      <td>1477.342601</td>\n",
       "      <td>0.572342</td>\n",
       "    </tr>\n",
       "    <tr>\n",
       "      <th>min</th>\n",
       "      <td>1.000000</td>\n",
       "      <td>15.000000</td>\n",
       "      <td>9.458900e+04</td>\n",
       "      <td>0.000000</td>\n",
       "      <td>0.000000</td>\n",
       "      <td>0.000000</td>\n",
       "      <td>-2.640000</td>\n",
       "      <td>44489.000000</td>\n",
       "      <td>0.120000</td>\n",
       "    </tr>\n",
       "    <tr>\n",
       "      <th>25%</th>\n",
       "      <td>2.000000</td>\n",
       "      <td>928.000000</td>\n",
       "      <td>4.959635e+06</td>\n",
       "      <td>0.000000</td>\n",
       "      <td>0.000000</td>\n",
       "      <td>0.000000</td>\n",
       "      <td>-0.710000</td>\n",
       "      <td>44489.000000</td>\n",
       "      <td>1.460000</td>\n",
       "    </tr>\n",
       "    <tr>\n",
       "      <th>50%</th>\n",
       "      <td>4.000000</td>\n",
       "      <td>932.000000</td>\n",
       "      <td>5.639772e+06</td>\n",
       "      <td>0.000000</td>\n",
       "      <td>0.000000</td>\n",
       "      <td>0.000000</td>\n",
       "      <td>8.620000</td>\n",
       "      <td>46486.000000</td>\n",
       "      <td>1.460000</td>\n",
       "    </tr>\n",
       "    <tr>\n",
       "      <th>75%</th>\n",
       "      <td>6.000000</td>\n",
       "      <td>934.000000</td>\n",
       "      <td>7.084768e+06</td>\n",
       "      <td>1.000000</td>\n",
       "      <td>0.000000</td>\n",
       "      <td>0.000000</td>\n",
       "      <td>16.820000</td>\n",
       "      <td>46486.000000</td>\n",
       "      <td>1.620000</td>\n",
       "    </tr>\n",
       "    <tr>\n",
       "      <th>max</th>\n",
       "      <td>7.000000</td>\n",
       "      <td>934.000000</td>\n",
       "      <td>1.337231e+07</td>\n",
       "      <td>1.000000</td>\n",
       "      <td>1.000000</td>\n",
       "      <td>1.000000</td>\n",
       "      <td>21.820000</td>\n",
       "      <td>48429.000000</td>\n",
       "      <td>1.620000</td>\n",
       "    </tr>\n",
       "  </tbody>\n",
       "</table>\n",
       "</div>"
      ],
      "text/plain": [
       "       day_of_week        open         sales       promo  state_holiday  \\\n",
       "count   912.000000  912.000000  9.120000e+02  912.000000     912.000000   \n",
       "mean      3.996711  775.517544  5.434012e+06    0.381579       0.029605   \n",
       "std       2.000272  340.109438  2.728459e+06    0.486041       0.169589   \n",
       "min       1.000000   15.000000  9.458900e+04    0.000000       0.000000   \n",
       "25%       2.000000  928.000000  4.959635e+06    0.000000       0.000000   \n",
       "50%       4.000000  932.000000  5.639772e+06    0.000000       0.000000   \n",
       "75%       6.000000  934.000000  7.084768e+06    1.000000       0.000000   \n",
       "max       7.000000  934.000000  1.337231e+07    1.000000       1.000000   \n",
       "\n",
       "       school_holiday    Avg_temp  Income_per_Capita(Dollars)  \\\n",
       "count      912.000000  912.000000                  912.000000   \n",
       "mean         0.206140    9.047774                46074.509868   \n",
       "std          0.404754    8.576125                 1477.342601   \n",
       "min          0.000000   -2.640000                44489.000000   \n",
       "25%          0.000000   -0.710000                44489.000000   \n",
       "50%          0.000000    8.620000                46486.000000   \n",
       "75%          0.000000   16.820000                46486.000000   \n",
       "max          1.000000   21.820000                48429.000000   \n",
       "\n",
       "       Inflation_rate(percentage)  \n",
       "count                  912.000000  \n",
       "mean                     1.256623  \n",
       "std                      0.572342  \n",
       "min                      0.120000  \n",
       "25%                      1.460000  \n",
       "50%                      1.460000  \n",
       "75%                      1.620000  \n",
       "max                      1.620000  "
      ]
     },
     "execution_count": 489,
     "metadata": {},
     "output_type": "execute_result"
    }
   ],
   "source": [
    "store.describe()"
   ]
  },
  {
   "cell_type": "code",
   "execution_count": 490,
   "id": "e56659af",
   "metadata": {},
   "outputs": [
    {
     "data": {
      "text/html": [
       "<div>\n",
       "<style scoped>\n",
       "    .dataframe tbody tr th:only-of-type {\n",
       "        vertical-align: middle;\n",
       "    }\n",
       "\n",
       "    .dataframe tbody tr th {\n",
       "        vertical-align: top;\n",
       "    }\n",
       "\n",
       "    .dataframe thead th {\n",
       "        text-align: right;\n",
       "    }\n",
       "</style>\n",
       "<table border=\"1\" class=\"dataframe\">\n",
       "  <thead>\n",
       "    <tr style=\"text-align: right;\">\n",
       "      <th></th>\n",
       "      <th>day_of_week</th>\n",
       "      <th>open</th>\n",
       "      <th>sales</th>\n",
       "      <th>promo</th>\n",
       "      <th>state_holiday</th>\n",
       "      <th>school_holiday</th>\n",
       "      <th>Avg_temp</th>\n",
       "      <th>Income_per_Capita(Dollars)</th>\n",
       "      <th>Inflation_rate(percentage)</th>\n",
       "    </tr>\n",
       "  </thead>\n",
       "  <tbody>\n",
       "    <tr>\n",
       "      <th>day_of_week</th>\n",
       "      <td>1.000000</td>\n",
       "      <td>-0.546606</td>\n",
       "      <td>-0.624697</td>\n",
       "      <td>-0.395010</td>\n",
       "      <td>-0.054723</td>\n",
       "      <td>-0.062885</td>\n",
       "      <td>-0.000628</td>\n",
       "      <td>0.001025</td>\n",
       "      <td>-0.000738</td>\n",
       "    </tr>\n",
       "    <tr>\n",
       "      <th>open</th>\n",
       "      <td>-0.546606</td>\n",
       "      <td>1.000000</td>\n",
       "      <td>0.866578</td>\n",
       "      <td>0.306683</td>\n",
       "      <td>-0.363172</td>\n",
       "      <td>-0.007043</td>\n",
       "      <td>0.010138</td>\n",
       "      <td>-0.005863</td>\n",
       "      <td>0.007892</td>\n",
       "    </tr>\n",
       "    <tr>\n",
       "      <th>sales</th>\n",
       "      <td>-0.624697</td>\n",
       "      <td>0.866578</td>\n",
       "      <td>1.000000</td>\n",
       "      <td>0.610873</td>\n",
       "      <td>-0.311322</td>\n",
       "      <td>0.014977</td>\n",
       "      <td>-0.020037</td>\n",
       "      <td>0.025795</td>\n",
       "      <td>-0.010219</td>\n",
       "    </tr>\n",
       "    <tr>\n",
       "      <th>promo</th>\n",
       "      <td>-0.395010</td>\n",
       "      <td>0.306683</td>\n",
       "      <td>0.610873</td>\n",
       "      <td>1.000000</td>\n",
       "      <td>-0.004030</td>\n",
       "      <td>0.012628</td>\n",
       "      <td>0.012589</td>\n",
       "      <td>0.023607</td>\n",
       "      <td>-0.018328</td>\n",
       "    </tr>\n",
       "    <tr>\n",
       "      <th>state_holiday</th>\n",
       "      <td>-0.054723</td>\n",
       "      <td>-0.363172</td>\n",
       "      <td>-0.311322</td>\n",
       "      <td>-0.004030</td>\n",
       "      <td>1.000000</td>\n",
       "      <td>0.118885</td>\n",
       "      <td>-0.003328</td>\n",
       "      <td>0.020773</td>\n",
       "      <td>-0.025885</td>\n",
       "    </tr>\n",
       "    <tr>\n",
       "      <th>school_holiday</th>\n",
       "      <td>-0.062885</td>\n",
       "      <td>-0.007043</td>\n",
       "      <td>0.014977</td>\n",
       "      <td>0.012628</td>\n",
       "      <td>0.118885</td>\n",
       "      <td>1.000000</td>\n",
       "      <td>0.124040</td>\n",
       "      <td>-0.091024</td>\n",
       "      <td>0.110760</td>\n",
       "    </tr>\n",
       "    <tr>\n",
       "      <th>Avg_temp</th>\n",
       "      <td>-0.000628</td>\n",
       "      <td>0.010138</td>\n",
       "      <td>-0.020037</td>\n",
       "      <td>0.012589</td>\n",
       "      <td>-0.003328</td>\n",
       "      <td>0.124040</td>\n",
       "      <td>1.000000</td>\n",
       "      <td>-0.088423</td>\n",
       "      <td>0.110182</td>\n",
       "    </tr>\n",
       "    <tr>\n",
       "      <th>Income_per_Capita(Dollars)</th>\n",
       "      <td>0.001025</td>\n",
       "      <td>-0.005863</td>\n",
       "      <td>0.025795</td>\n",
       "      <td>0.023607</td>\n",
       "      <td>0.020773</td>\n",
       "      <td>-0.091024</td>\n",
       "      <td>-0.088423</td>\n",
       "      <td>1.000000</td>\n",
       "      <td>-0.714252</td>\n",
       "    </tr>\n",
       "    <tr>\n",
       "      <th>Inflation_rate(percentage)</th>\n",
       "      <td>-0.000738</td>\n",
       "      <td>0.007892</td>\n",
       "      <td>-0.010219</td>\n",
       "      <td>-0.018328</td>\n",
       "      <td>-0.025885</td>\n",
       "      <td>0.110760</td>\n",
       "      <td>0.110182</td>\n",
       "      <td>-0.714252</td>\n",
       "      <td>1.000000</td>\n",
       "    </tr>\n",
       "  </tbody>\n",
       "</table>\n",
       "</div>"
      ],
      "text/plain": [
       "                            day_of_week      open     sales     promo  \\\n",
       "day_of_week                    1.000000 -0.546606 -0.624697 -0.395010   \n",
       "open                          -0.546606  1.000000  0.866578  0.306683   \n",
       "sales                         -0.624697  0.866578  1.000000  0.610873   \n",
       "promo                         -0.395010  0.306683  0.610873  1.000000   \n",
       "state_holiday                 -0.054723 -0.363172 -0.311322 -0.004030   \n",
       "school_holiday                -0.062885 -0.007043  0.014977  0.012628   \n",
       "Avg_temp                      -0.000628  0.010138 -0.020037  0.012589   \n",
       "Income_per_Capita(Dollars)     0.001025 -0.005863  0.025795  0.023607   \n",
       "Inflation_rate(percentage)    -0.000738  0.007892 -0.010219 -0.018328   \n",
       "\n",
       "                            state_holiday  school_holiday  Avg_temp  \\\n",
       "day_of_week                     -0.054723       -0.062885 -0.000628   \n",
       "open                            -0.363172       -0.007043  0.010138   \n",
       "sales                           -0.311322        0.014977 -0.020037   \n",
       "promo                           -0.004030        0.012628  0.012589   \n",
       "state_holiday                    1.000000        0.118885 -0.003328   \n",
       "school_holiday                   0.118885        1.000000  0.124040   \n",
       "Avg_temp                        -0.003328        0.124040  1.000000   \n",
       "Income_per_Capita(Dollars)       0.020773       -0.091024 -0.088423   \n",
       "Inflation_rate(percentage)      -0.025885        0.110760  0.110182   \n",
       "\n",
       "                            Income_per_Capita(Dollars)  \\\n",
       "day_of_week                                   0.001025   \n",
       "open                                         -0.005863   \n",
       "sales                                         0.025795   \n",
       "promo                                         0.023607   \n",
       "state_holiday                                 0.020773   \n",
       "school_holiday                               -0.091024   \n",
       "Avg_temp                                     -0.088423   \n",
       "Income_per_Capita(Dollars)                    1.000000   \n",
       "Inflation_rate(percentage)                   -0.714252   \n",
       "\n",
       "                            Inflation_rate(percentage)  \n",
       "day_of_week                                  -0.000738  \n",
       "open                                          0.007892  \n",
       "sales                                        -0.010219  \n",
       "promo                                        -0.018328  \n",
       "state_holiday                                -0.025885  \n",
       "school_holiday                                0.110760  \n",
       "Avg_temp                                      0.110182  \n",
       "Income_per_Capita(Dollars)                   -0.714252  \n",
       "Inflation_rate(percentage)                    1.000000  "
      ]
     },
     "execution_count": 490,
     "metadata": {},
     "output_type": "execute_result"
    }
   ],
   "source": [
    "store.corr()"
   ]
  },
  {
   "cell_type": "code",
   "execution_count": 491,
   "id": "bd612c38",
   "metadata": {},
   "outputs": [
    {
     "data": {
      "text/html": [
       "<div>\n",
       "<style scoped>\n",
       "    .dataframe tbody tr th:only-of-type {\n",
       "        vertical-align: middle;\n",
       "    }\n",
       "\n",
       "    .dataframe tbody tr th {\n",
       "        vertical-align: top;\n",
       "    }\n",
       "\n",
       "    .dataframe thead th {\n",
       "        text-align: right;\n",
       "    }\n",
       "</style>\n",
       "<table border=\"1\" class=\"dataframe\">\n",
       "  <thead>\n",
       "    <tr style=\"text-align: right;\">\n",
       "      <th></th>\n",
       "      <th>day_of_week</th>\n",
       "      <th>open</th>\n",
       "      <th>sales</th>\n",
       "      <th>promo</th>\n",
       "      <th>state_holiday</th>\n",
       "      <th>school_holiday</th>\n",
       "      <th>Avg_temp</th>\n",
       "      <th>Income_per_Capita(Dollars)</th>\n",
       "      <th>Inflation_rate(percentage)</th>\n",
       "    </tr>\n",
       "  </thead>\n",
       "  <tbody>\n",
       "    <tr>\n",
       "      <th>0</th>\n",
       "      <td>2</td>\n",
       "      <td>16</td>\n",
       "      <td>94589.0</td>\n",
       "      <td>0</td>\n",
       "      <td>1</td>\n",
       "      <td>1</td>\n",
       "      <td>-2.64</td>\n",
       "      <td>44489</td>\n",
       "      <td>1.46</td>\n",
       "    </tr>\n",
       "    <tr>\n",
       "      <th>1</th>\n",
       "      <td>3</td>\n",
       "      <td>930</td>\n",
       "      <td>5884914.0</td>\n",
       "      <td>0</td>\n",
       "      <td>0</td>\n",
       "      <td>1</td>\n",
       "      <td>-2.64</td>\n",
       "      <td>44489</td>\n",
       "      <td>1.46</td>\n",
       "    </tr>\n",
       "    <tr>\n",
       "      <th>2</th>\n",
       "      <td>4</td>\n",
       "      <td>928</td>\n",
       "      <td>5397797.0</td>\n",
       "      <td>0</td>\n",
       "      <td>0</td>\n",
       "      <td>1</td>\n",
       "      <td>-2.64</td>\n",
       "      <td>44489</td>\n",
       "      <td>1.46</td>\n",
       "    </tr>\n",
       "    <tr>\n",
       "      <th>3</th>\n",
       "      <td>5</td>\n",
       "      <td>928</td>\n",
       "      <td>5625456.0</td>\n",
       "      <td>0</td>\n",
       "      <td>0</td>\n",
       "      <td>1</td>\n",
       "      <td>-2.64</td>\n",
       "      <td>44489</td>\n",
       "      <td>1.46</td>\n",
       "    </tr>\n",
       "    <tr>\n",
       "      <th>4</th>\n",
       "      <td>6</td>\n",
       "      <td>927</td>\n",
       "      <td>4972166.0</td>\n",
       "      <td>0</td>\n",
       "      <td>0</td>\n",
       "      <td>1</td>\n",
       "      <td>-2.64</td>\n",
       "      <td>44489</td>\n",
       "      <td>1.46</td>\n",
       "    </tr>\n",
       "  </tbody>\n",
       "</table>\n",
       "</div>"
      ],
      "text/plain": [
       "   day_of_week  open      sales  promo  state_holiday  school_holiday  \\\n",
       "0            2    16    94589.0      0              1               1   \n",
       "1            3   930  5884914.0      0              0               1   \n",
       "2            4   928  5397797.0      0              0               1   \n",
       "3            5   928  5625456.0      0              0               1   \n",
       "4            6   927  4972166.0      0              0               1   \n",
       "\n",
       "   Avg_temp  Income_per_Capita(Dollars)  Inflation_rate(percentage)  \n",
       "0     -2.64                       44489                        1.46  \n",
       "1     -2.64                       44489                        1.46  \n",
       "2     -2.64                       44489                        1.46  \n",
       "3     -2.64                       44489                        1.46  \n",
       "4     -2.64                       44489                        1.46  "
      ]
     },
     "execution_count": 491,
     "metadata": {},
     "output_type": "execute_result"
    }
   ],
   "source": [
    "store.head()"
   ]
  },
  {
   "cell_type": "code",
   "execution_count": 492,
   "id": "f9f9a553",
   "metadata": {},
   "outputs": [
    {
     "data": {
      "text/plain": [
       "2    131\n",
       "3    131\n",
       "1    130\n",
       "4    130\n",
       "5    130\n",
       "6    130\n",
       "7    130\n",
       "Name: day_of_week, dtype: int64"
      ]
     },
     "execution_count": 492,
     "metadata": {},
     "output_type": "execute_result"
    }
   ],
   "source": [
    "# Now we have selected important features require for model development\n",
    "pd.value_counts(store.day_of_week)"
   ]
  },
  {
   "cell_type": "code",
   "execution_count": 493,
   "id": "b81045a9",
   "metadata": {},
   "outputs": [
    {
     "data": {
      "text/plain": [
       "0    564\n",
       "1    348\n",
       "Name: promo, dtype: int64"
      ]
     },
     "execution_count": 493,
     "metadata": {},
     "output_type": "execute_result"
    }
   ],
   "source": [
    "pd.value_counts(store.promo)"
   ]
  },
  {
   "cell_type": "code",
   "execution_count": 494,
   "id": "4fff81e7",
   "metadata": {},
   "outputs": [
    {
     "data": {
      "text/plain": [
       "0    885\n",
       "1     27\n",
       "Name: state_holiday, dtype: int64"
      ]
     },
     "execution_count": 494,
     "metadata": {},
     "output_type": "execute_result"
    }
   ],
   "source": [
    "pd.value_counts(store.state_holiday)"
   ]
  },
  {
   "cell_type": "code",
   "execution_count": 495,
   "id": "c2f68bbb",
   "metadata": {},
   "outputs": [
    {
     "data": {
      "text/plain": [
       "0    724\n",
       "1    188\n",
       "Name: school_holiday, dtype: int64"
      ]
     },
     "execution_count": 495,
     "metadata": {},
     "output_type": "execute_result"
    }
   ],
   "source": [
    "pd.value_counts(store.school_holiday)"
   ]
  },
  {
   "cell_type": "code",
   "execution_count": 496,
   "id": "7e5c69bc",
   "metadata": {},
   "outputs": [],
   "source": [
    "# we observed that in July month there are no state holidays from the dataset"
   ]
  },
  {
   "cell_type": "code",
   "execution_count": 497,
   "id": "cd649f0e",
   "metadata": {},
   "outputs": [],
   "source": [
    "# Data visualization\n",
    "import matplotlib.pyplot as plt\n",
    "import seaborn as sns"
   ]
  },
  {
   "cell_type": "code",
   "execution_count": 498,
   "id": "3f590838",
   "metadata": {},
   "outputs": [
    {
     "data": {
      "image/png": "[encoded data removed]",
      "text/plain": [
       "<Figure size 1080x1080 with 9 Axes>"
      ]
     },
     "metadata": {
      "needs_background": "light"
     },
     "output_type": "display_data"
    }
   ],
   "source": [
    "store.hist(bins=50, figsize=(15,15))\n",
    "plt.show()"
   ]
  },
  {
   "cell_type": "code",
   "execution_count": 499,
   "id": "77d5c513",
   "metadata": {},
   "outputs": [
    {
     "data": {
      "text/plain": [
       "<BarContainer object of 912 artists>"
      ]
     },
     "execution_count": 499,
     "metadata": {},
     "output_type": "execute_result"
    },
    {
     "data": {
      "image/png": "[encoded data removed]",
      "text/plain": [
       "<Figure size 432x288 with 1 Axes>"
      ]
     },
     "metadata": {
      "needs_background": "light"
     },
     "output_type": "display_data"
    }
   ],
   "source": [
    "plt.bar(store['day_of_week'], store['sales'])"
   ]
  },
  {
   "cell_type": "code",
   "execution_count": 500,
   "id": "a7ba57e6",
   "metadata": {},
   "outputs": [
    {
     "data": {
      "text/plain": [
       "<BarContainer object of 912 artists>"
      ]
     },
     "execution_count": 500,
     "metadata": {},
     "output_type": "execute_result"
    },
    {
     "data": {
      "image/png": "[encoded data removed]",
      "text/plain": [
       "<Figure size 432x288 with 1 Axes>"
      ]
     },
     "metadata": {
      "needs_background": "light"
     },
     "output_type": "display_data"
    }
   ],
   "source": [
    "plt.bar(store['promo'], store['sales'])"
   ]
  },
  {
   "cell_type": "code",
   "execution_count": 501,
   "id": "ff070e2d",
   "metadata": {},
   "outputs": [
    {
     "data": {
      "text/plain": [
       "<BarContainer object of 912 artists>"
      ]
     },
     "execution_count": 501,
     "metadata": {},
     "output_type": "execute_result"
    },
    {
     "data": {
      "image/png": "[encoded data removed]",
      "text/plain": [
       "<Figure size 432x288 with 1 Axes>"
      ]
     },
     "metadata": {
      "needs_background": "light"
     },
     "output_type": "display_data"
    }
   ],
   "source": [
    "plt.bar(store['state_holiday'], store['sales'])"
   ]
  },
  {
   "cell_type": "code",
   "execution_count": 502,
   "id": "8dde9412",
   "metadata": {},
   "outputs": [
    {
     "data": {
      "text/plain": [
       "<BarContainer object of 912 artists>"
      ]
     },
     "execution_count": 502,
     "metadata": {},
     "output_type": "execute_result"
    },
    {
     "data": {
      "image/png": "[encoded data removed]",
      "text/plain": [
       "<Figure size 432x288 with 1 Axes>"
      ]
     },
     "metadata": {
      "needs_background": "light"
     },
     "output_type": "display_data"
    }
   ],
   "source": [
    "plt.bar(store['school_holiday'], store['sales'])"
   ]
  },
  {
   "cell_type": "code",
   "execution_count": 503,
   "id": "32f7a200",
   "metadata": {},
   "outputs": [
    {
     "data": {
      "text/plain": [
       "<BarContainer object of 912 artists>"
      ]
     },
     "execution_count": 503,
     "metadata": {},
     "output_type": "execute_result"
    },
    {
     "data": {
      "image/png": "[encoded data removed]",
      "text/plain": [
       "<Figure size 432x288 with 1 Axes>"
      ]
     },
     "metadata": {
      "needs_background": "light"
     },
     "output_type": "display_data"
    }
   ],
   "source": [
    "plt.bar(store['Avg_temp'], store['sales'])"
   ]
  },
  {
   "cell_type": "code",
   "execution_count": 504,
   "id": "e73ebafa",
   "metadata": {},
   "outputs": [
    {
     "data": {
      "text/plain": [
       "<AxesSubplot:xlabel='open', ylabel='sales'>"
      ]
     },
     "execution_count": 504,
     "metadata": {},
     "output_type": "execute_result"
    },
    {
     "data": {
      "image/png": "[encoded data removed]",
      "text/plain": [
       "<Figure size 432x288 with 1 Axes>"
      ]
     },
     "metadata": {
      "needs_background": "light"
     },
     "output_type": "display_data"
    }
   ],
   "source": [
    "sns.scatterplot(x = store['open'], y = store['sales'])"
   ]
  },
  {
   "cell_type": "code",
   "execution_count": 505,
   "id": "3273ce50",
   "metadata": {},
   "outputs": [
    {
     "data": {
      "text/plain": [
       "<AxesSubplot:>"
      ]
     },
     "execution_count": 505,
     "metadata": {},
     "output_type": "execute_result"
    },
    {
     "data": {
      "image/png": "[encoded data removed]",
      "text/plain": [
       "<Figure size 432x288 with 2 Axes>"
      ]
     },
     "metadata": {
      "needs_background": "light"
     },
     "output_type": "display_data"
    }
   ],
   "source": [
    "sns.heatmap(store.corr(), annot = True)"
   ]
  },
  {
   "cell_type": "code",
   "execution_count": 506,
   "id": "1640a5a5",
   "metadata": {},
   "outputs": [],
   "source": [
    "# By observing above heatmap there is very less impact on school_holiday, Avg_temp, Income_per_Capita(Dollars), Inflation_rate(percentage).\n",
    "# so these columns, which are less correation on sales (minimal effect on model)\n"
   ]
  },
  {
   "cell_type": "code",
   "execution_count": 507,
   "id": "f108f691",
   "metadata": {},
   "outputs": [],
   "source": [
    "# Model Building"
   ]
  },
  {
   "cell_type": "code",
   "execution_count": 508,
   "id": "915d061e",
   "metadata": {},
   "outputs": [],
   "source": [
    "X = store.drop(columns='sales')\n",
    "Y = store['sales']"
   ]
  },
  {
   "cell_type": "code",
   "execution_count": 509,
   "id": "941e7366",
   "metadata": {},
   "outputs": [
    {
     "data": {
      "text/html": [
       "<div>\n",
       "<style scoped>\n",
       "    .dataframe tbody tr th:only-of-type {\n",
       "        vertical-align: middle;\n",
       "    }\n",
       "\n",
       "    .dataframe tbody tr th {\n",
       "        vertical-align: top;\n",
       "    }\n",
       "\n",
       "    .dataframe thead th {\n",
       "        text-align: right;\n",
       "    }\n",
       "</style>\n",
       "<table border=\"1\" class=\"dataframe\">\n",
       "  <thead>\n",
       "    <tr style=\"text-align: right;\">\n",
       "      <th></th>\n",
       "      <th>day_of_week</th>\n",
       "      <th>open</th>\n",
       "      <th>promo</th>\n",
       "      <th>state_holiday</th>\n",
       "      <th>school_holiday</th>\n",
       "      <th>Avg_temp</th>\n",
       "      <th>Income_per_Capita(Dollars)</th>\n",
       "      <th>Inflation_rate(percentage)</th>\n",
       "    </tr>\n",
       "  </thead>\n",
       "  <tbody>\n",
       "    <tr>\n",
       "      <th>0</th>\n",
       "      <td>2</td>\n",
       "      <td>16</td>\n",
       "      <td>0</td>\n",
       "      <td>1</td>\n",
       "      <td>1</td>\n",
       "      <td>-2.64</td>\n",
       "      <td>44489</td>\n",
       "      <td>1.46</td>\n",
       "    </tr>\n",
       "    <tr>\n",
       "      <th>1</th>\n",
       "      <td>3</td>\n",
       "      <td>930</td>\n",
       "      <td>0</td>\n",
       "      <td>0</td>\n",
       "      <td>1</td>\n",
       "      <td>-2.64</td>\n",
       "      <td>44489</td>\n",
       "      <td>1.46</td>\n",
       "    </tr>\n",
       "    <tr>\n",
       "      <th>2</th>\n",
       "      <td>4</td>\n",
       "      <td>928</td>\n",
       "      <td>0</td>\n",
       "      <td>0</td>\n",
       "      <td>1</td>\n",
       "      <td>-2.64</td>\n",
       "      <td>44489</td>\n",
       "      <td>1.46</td>\n",
       "    </tr>\n",
       "    <tr>\n",
       "      <th>3</th>\n",
       "      <td>5</td>\n",
       "      <td>928</td>\n",
       "      <td>0</td>\n",
       "      <td>0</td>\n",
       "      <td>1</td>\n",
       "      <td>-2.64</td>\n",
       "      <td>44489</td>\n",
       "      <td>1.46</td>\n",
       "    </tr>\n",
       "    <tr>\n",
       "      <th>4</th>\n",
       "      <td>6</td>\n",
       "      <td>927</td>\n",
       "      <td>0</td>\n",
       "      <td>0</td>\n",
       "      <td>1</td>\n",
       "      <td>-2.64</td>\n",
       "      <td>44489</td>\n",
       "      <td>1.46</td>\n",
       "    </tr>\n",
       "  </tbody>\n",
       "</table>\n",
       "</div>"
      ],
      "text/plain": [
       "   day_of_week  open  promo  state_holiday  school_holiday  Avg_temp  \\\n",
       "0            2    16      0              1               1     -2.64   \n",
       "1            3   930      0              0               1     -2.64   \n",
       "2            4   928      0              0               1     -2.64   \n",
       "3            5   928      0              0               1     -2.64   \n",
       "4            6   927      0              0               1     -2.64   \n",
       "\n",
       "   Income_per_Capita(Dollars)  Inflation_rate(percentage)  \n",
       "0                       44489                        1.46  \n",
       "1                       44489                        1.46  \n",
       "2                       44489                        1.46  \n",
       "3                       44489                        1.46  \n",
       "4                       44489                        1.46  "
      ]
     },
     "execution_count": 509,
     "metadata": {},
     "output_type": "execute_result"
    }
   ],
   "source": [
    "X.head()"
   ]
  },
  {
   "cell_type": "code",
   "execution_count": 510,
   "id": "ef04574a",
   "metadata": {},
   "outputs": [
    {
     "data": {
      "text/plain": [
       "0      94589.0\n",
       "1    5884914.0\n",
       "2    5397797.0\n",
       "3    5625456.0\n",
       "4    4972166.0\n",
       "Name: sales, dtype: float64"
      ]
     },
     "execution_count": 510,
     "metadata": {},
     "output_type": "execute_result"
    }
   ],
   "source": [
    "Y.head()"
   ]
  },
  {
   "cell_type": "code",
   "execution_count": 511,
   "id": "25b4cbeb",
   "metadata": {},
   "outputs": [],
   "source": [
    "from sklearn.model_selection import train_test_split\n",
    "X_train, X_test, Y_train, Y_test = train_test_split(X, Y, test_size=0.2, random_state=1)"
   ]
  },
  {
   "cell_type": "code",
   "execution_count": 512,
   "id": "7c49fe25",
   "metadata": {},
   "outputs": [],
   "source": [
    "from sklearn.linear_model import LinearRegression\n",
    "from sklearn.preprocessing import StandardScaler\n",
    "from sklearn.metrics import r2_score"
   ]
  },
  {
   "cell_type": "code",
   "execution_count": 513,
   "id": "07734a3e",
   "metadata": {},
   "outputs": [],
   "source": [
    "model = LinearRegression()"
   ]
  },
  {
   "cell_type": "code",
   "execution_count": 514,
   "id": "893d65cd",
   "metadata": {},
   "outputs": [
    {
     "data": {
      "text/plain": [
       "LinearRegression()"
      ]
     },
     "execution_count": 514,
     "metadata": {},
     "output_type": "execute_result"
    }
   ],
   "source": [
    "model.fit(X_train, Y_train)"
   ]
  },
  {
   "cell_type": "code",
   "execution_count": 515,
   "id": "5906bff5",
   "metadata": {},
   "outputs": [],
   "source": [
    "y_pred = model.predict(X_test)"
   ]
  },
  {
   "cell_type": "code",
   "execution_count": 516,
   "id": "e389a1a9",
   "metadata": {},
   "outputs": [
    {
     "data": {
      "text/plain": [
       "0.8965800272709944"
      ]
     },
     "execution_count": 516,
     "metadata": {},
     "output_type": "execute_result"
    }
   ],
   "source": [
    "r2_score(Y_test, y_pred)"
   ]
  },
  {
   "cell_type": "code",
   "execution_count": 517,
   "id": "1bed0d64",
   "metadata": {},
   "outputs": [],
   "source": [
    "# We got an accuracy of 89.65% which means our model is performing good"
   ]
  },
  {
   "cell_type": "code",
   "execution_count": 518,
   "id": "542138a3",
   "metadata": {},
   "outputs": [],
   "source": [
    "# Now we need to predict sales for the July month\n",
    "testing = testing.drop(columns='sales')"
   ]
  },
  {
   "cell_type": "code",
   "execution_count": 519,
   "id": "4a5fc002",
   "metadata": {},
   "outputs": [
    {
     "data": {
      "text/html": [
       "<div>\n",
       "<style scoped>\n",
       "    .dataframe tbody tr th:only-of-type {\n",
       "        vertical-align: middle;\n",
       "    }\n",
       "\n",
       "    .dataframe tbody tr th {\n",
       "        vertical-align: top;\n",
       "    }\n",
       "\n",
       "    .dataframe thead th {\n",
       "        text-align: right;\n",
       "    }\n",
       "</style>\n",
       "<table border=\"1\" class=\"dataframe\">\n",
       "  <thead>\n",
       "    <tr style=\"text-align: right;\">\n",
       "      <th></th>\n",
       "      <th>day_of_week</th>\n",
       "      <th>open</th>\n",
       "      <th>promo</th>\n",
       "      <th>state_holiday</th>\n",
       "      <th>school_holiday</th>\n",
       "      <th>Avg_temp</th>\n",
       "      <th>Income_per_Capita(Dollars)</th>\n",
       "      <th>Inflation_rate(percentage)</th>\n",
       "    </tr>\n",
       "  </thead>\n",
       "  <tbody>\n",
       "    <tr>\n",
       "      <th>912</th>\n",
       "      <td>4</td>\n",
       "      <td>934</td>\n",
       "      <td>1</td>\n",
       "      <td>0</td>\n",
       "      <td>0</td>\n",
       "      <td>21.82</td>\n",
       "      <td>48429</td>\n",
       "      <td>0.12</td>\n",
       "    </tr>\n",
       "    <tr>\n",
       "      <th>913</th>\n",
       "      <td>5</td>\n",
       "      <td>934</td>\n",
       "      <td>1</td>\n",
       "      <td>0</td>\n",
       "      <td>0</td>\n",
       "      <td>21.82</td>\n",
       "      <td>48429</td>\n",
       "      <td>0.12</td>\n",
       "    </tr>\n",
       "    <tr>\n",
       "      <th>914</th>\n",
       "      <td>6</td>\n",
       "      <td>934</td>\n",
       "      <td>0</td>\n",
       "      <td>0</td>\n",
       "      <td>0</td>\n",
       "      <td>21.82</td>\n",
       "      <td>48429</td>\n",
       "      <td>0.12</td>\n",
       "    </tr>\n",
       "    <tr>\n",
       "      <th>915</th>\n",
       "      <td>7</td>\n",
       "      <td>32</td>\n",
       "      <td>0</td>\n",
       "      <td>0</td>\n",
       "      <td>0</td>\n",
       "      <td>21.82</td>\n",
       "      <td>48429</td>\n",
       "      <td>0.12</td>\n",
       "    </tr>\n",
       "    <tr>\n",
       "      <th>916</th>\n",
       "      <td>1</td>\n",
       "      <td>934</td>\n",
       "      <td>0</td>\n",
       "      <td>0</td>\n",
       "      <td>0</td>\n",
       "      <td>21.82</td>\n",
       "      <td>48429</td>\n",
       "      <td>0.12</td>\n",
       "    </tr>\n",
       "  </tbody>\n",
       "</table>\n",
       "</div>"
      ],
      "text/plain": [
       "     day_of_week  open  promo  state_holiday  school_holiday  Avg_temp  \\\n",
       "912            4   934      1              0               0     21.82   \n",
       "913            5   934      1              0               0     21.82   \n",
       "914            6   934      0              0               0     21.82   \n",
       "915            7    32      0              0               0     21.82   \n",
       "916            1   934      0              0               0     21.82   \n",
       "\n",
       "     Income_per_Capita(Dollars)  Inflation_rate(percentage)  \n",
       "912                       48429                        0.12  \n",
       "913                       48429                        0.12  \n",
       "914                       48429                        0.12  \n",
       "915                       48429                        0.12  \n",
       "916                       48429                        0.12  "
      ]
     },
     "execution_count": 519,
     "metadata": {},
     "output_type": "execute_result"
    }
   ],
   "source": [
    "testing.head()"
   ]
  },
  {
   "cell_type": "code",
   "execution_count": 520,
   "id": "c887a022",
   "metadata": {},
   "outputs": [
    {
     "data": {
      "text/plain": [
       "array([7438314.65760887, 7271387.58214121, 5112543.25811353,\n",
       "        160831.3858728 , 5947178.63545184, 5780251.55998418,\n",
       "       5613324.48451651, 5446397.40904885, 5279470.33358119,\n",
       "       5107238.61864926,  155526.74640853, 7933791.24454759,\n",
       "       7766864.16907992, 7599937.09361226, 7427705.37868033,\n",
       "       7260778.30321267, 5101933.97918499,  155526.74640853,\n",
       "       5936569.35652329, 5769642.28105563, 5602715.20558797,\n",
       "       5435788.13012031, 5268861.05465265, 5101933.97918499,\n",
       "        155526.74640853, 8059304.91067262, 7892377.83520496,\n",
       "       7725450.7597373 , 7558523.68426964, 7391596.60880197])"
      ]
     },
     "execution_count": 520,
     "metadata": {},
     "output_type": "execute_result"
    }
   ],
   "source": [
    "model.predict(testing)"
   ]
  },
  {
   "cell_type": "code",
   "execution_count": 521,
   "id": "d4c0884e",
   "metadata": {},
   "outputs": [],
   "source": [
    "# So we found Sales Prediction in the month of July from 2 nd to 31 st."
   ]
  }
 ],
 "metadata": {
  "kernelspec": {
   "display_name": "Python 3",
   "language": "python",
   "name": "python3"
  },
  "language_info": {
   "codemirror_mode": {
    "name": "ipython",
    "version": 3
   },
   "file_extension": ".py",
   "mimetype": "text/x-python",
   "name": "python",
   "nbconvert_exporter": "python",
   "pygments_lexer": "ipython3",
   "version": "3.8.8"
  }
 },
 "nbformat": 4,
 "nbformat_minor": 5
}
